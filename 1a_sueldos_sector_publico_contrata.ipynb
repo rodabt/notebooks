{
 "cells": [
  {
   "cell_type": "markdown",
   "metadata": {},
   "source": [
    "# Estudio de sueldos de contrata del sector público"
   ]
  },
  {
   "cell_type": "markdown",
   "metadata": {},
   "source": [
    "* Sólo año 2016\n",
    "* Sin considerar asignaciones especiales"
   ]
  },
  {
   "cell_type": "markdown",
   "metadata": {},
   "source": [
    "## Uso de lxml"
   ]
  },
  {
   "cell_type": "code",
   "execution_count": 33,
   "metadata": {
    "collapsed": true
   },
   "outputs": [],
   "source": [
    "# Carga de librerías\n",
    "import requests\n",
    "import urllib.request\n",
    "from lxml import html\n",
    "from bs4 import BeautifulSoup\n",
    "import pandas as pd\n",
    "from ggplot import *\n",
    "\n",
    "%matplotlib inline"
   ]
  },
  {
   "cell_type": "code",
   "execution_count": 34,
   "metadata": {
    "collapsed": false
   },
   "outputs": [],
   "source": [
    "# Para representar en moneda con \"$ y .\"\n",
    "# pd.set_option(\"display.float_format\",lambda x: \"{:,}\".format(x).replace(\",\",\".\"))"
   ]
  },
  {
   "cell_type": "code",
   "execution_count": 35,
   "metadata": {
    "collapsed": true
   },
   "outputs": [],
   "source": [
    "# Extracción desde URL\n",
    "url = 'http://www.gobiernotransparentechile.cl/directorio/servicios'\n",
    "headers = {'User-Agent': 'My User Agent 1.0'}\n",
    "page = requests.get(url, headers = headers)\n",
    "tree = html.fromstring(page.content)"
   ]
  },
  {
   "cell_type": "code",
   "execution_count": 36,
   "metadata": {
    "collapsed": true
   },
   "outputs": [],
   "source": [
    "# Listado de servicios\n",
    "servicios = tree.xpath(\"//ul[@class='resultList']/li/a/text()\")"
   ]
  },
  {
   "cell_type": "code",
   "execution_count": 37,
   "metadata": {
    "collapsed": false
   },
   "outputs": [
    {
     "data": {
      "text/plain": [
       "['Agencia de Cooperación Internacional (AGCI)',\n",
       " 'Agencia Nacional de Inteligencia (ANI)',\n",
       " 'Armada de Chile',\n",
       " 'Caja de Previsión de la Defensa Nacional (CAPREDENA)',\n",
       " 'Carabineros de Chile']"
      ]
     },
     "execution_count": 37,
     "metadata": {},
     "output_type": "execute_result"
    }
   ],
   "source": [
    "servicios[0:5]"
   ]
  },
  {
   "cell_type": "code",
   "execution_count": 59,
   "metadata": {
    "collapsed": false
   },
   "outputs": [
    {
     "data": {
      "text/plain": [
       "347"
      ]
     },
     "execution_count": 59,
     "metadata": {},
     "output_type": "execute_result"
    }
   ],
   "source": [
    "len(servicios)"
   ]
  },
  {
   "cell_type": "code",
   "execution_count": 38,
   "metadata": {
    "collapsed": false
   },
   "outputs": [],
   "source": [
    "# URLs asociadas a servicios\n",
    "links = tree.xpath(\"//ul[@class='resultList']/li/a/@href\")"
   ]
  },
  {
   "cell_type": "code",
   "execution_count": 39,
   "metadata": {
    "collapsed": false
   },
   "outputs": [],
   "source": [
    "# Añadimos link a personas a contrata\n",
    "links = [s + '/per_contrata/Ao-2016?x=0&y=0&sort=id&direction=asc&page_number=' for s in links]"
   ]
  },
  {
   "cell_type": "markdown",
   "metadata": {},
   "source": [
    "## Uso de BeautifulSoup"
   ]
  },
  {
   "cell_type": "code",
   "execution_count": 41,
   "metadata": {
    "collapsed": false
   },
   "outputs": [],
   "source": [
    "def get_html(link):\n",
    "    '''\n",
    "    Devuelve el contenido html de un link asociado\n",
    "    '''\n",
    "    headers = {'User-Agent': 'My User Agent 1.0'}\n",
    "    req = urllib.request.Request(link, data=None, headers=headers)    \n",
    "    try:\n",
    "        f = urllib.request.urlopen(req)        \n",
    "        html = f.read().decode('utf-8')\n",
    "        return html\n",
    "    except:\n",
    "        return\n",
    "\n",
    "def extract_table(html):\n",
    "    soup = BeautifulSoup(html,'lxml')\n",
    "    main_div = soup.find('div', {'id': 'main'})\n",
    "    main_table = main_div.find('table')    \n",
    "    if main_table:\n",
    "        return main_table\n",
    "    else:\n",
    "        return\n",
    "\n",
    "def create_df(table,servicio):    \n",
    "    '''Cabecera'''\n",
    "    thead = main_table.find('thead')\n",
    "    rows = thead.find('tr')\n",
    "    titles = [s.text.strip() for s in rows.find_all('th')]\n",
    "\n",
    "    '''Filas'''\n",
    "    tbody = main_table.find('tbody')\n",
    "    rows = tbody.find_all('tr')\n",
    "    data = []\n",
    "    for row in rows:\n",
    "        cols = row.find_all('td')\n",
    "        cols = [ele.text.strip() for ele in cols]\n",
    "        data.append([ele for ele in cols])\n",
    "    df = pd.DataFrame(data)\n",
    "    df = df.dropna()\n",
    "    df.reset_index(drop=True,inplace=True)\n",
    "    df.columns = titles\n",
    "    df['Remuneración Bruta Mensualizada'] = df['Remuneración Bruta Mensualizada'].str.replace('.','').astype(float)\n",
    "    df = df[['Estamento','Cargo','Grado EUS','Remuneración Bruta Mensualizada','Fecha de inicio','Fecha de término']]\n",
    "    df['servicio'] = servicio\n",
    "    return df"
   ]
  },
  {
   "cell_type": "code",
   "execution_count": 61,
   "metadata": {
    "collapsed": false
   },
   "outputs": [
    {
     "name": "stdout",
     "output_type": "stream",
     "text": [
      "CPU times: user 2 µs, sys: 0 ns, total: 2 µs\n",
      "Wall time: 5.96 µs\n",
      "Procesando servicio 1:Agencia de Cooperación Internacional (AGCI)\n",
      "Procesando servicio 2:Agencia Nacional de Inteligencia (ANI)\n",
      "Procesando servicio 3:Armada de Chile\n",
      "Procesando servicio 4:Caja de Previsión de la Defensa Nacional (CAPREDENA)\n",
      "Procesando servicio 5:Carabineros de Chile\n",
      "Procesando servicio 6:Central de Abastecimiento del Sistema Nacional de Servicios de Salud (CENABAST)\n",
      "Procesando servicio 7:Centro de Referencia de Salud de Maipú\n",
      "Procesando servicio 8:Centro de Referencia de Salud de Peñalolén Cordillera Oriente\n",
      "Procesando servicio 9:Comisión Administradora del Sistema de Créditos para Estudios Superiores\n",
      "Procesando servicio 10:Comisión Chilena de Energía Nuclear (CCHEN)\n",
      "Procesando servicio 11:Comisión Chilena del Cobre (COCHILCO)\n",
      "Procesando servicio 12:Comisión del Sistema Nacional de Certificación de Competencias Laborales (CHILEVALORA)\n",
      "Procesando servicio 13:Comisión Nacional de Acreditación (CNA)\n",
      "Procesando servicio 14:Comisión Nacional de Energía (CNE)\n",
      "Procesando servicio 15:Comisión Nacional de Investigación en Ciencia y Tecnología (CONICYT)\n",
      "Procesando servicio 16:Comisión Nacional de Riego (CNR)\n",
      "Procesando servicio 17:Comité de Inversiones Extranjeras\n",
      "Procesando servicio 18:Consejo de Calificación Cinematográfica\n",
      "Procesando servicio 19:Consejo de Defensa del Estado\n",
      "Procesando servicio 20:Consejo de Rectores de las Universidades Chilenas\n",
      "Procesando servicio 21:Consejo Nacional de la Cultura y las Artes\n",
      "Procesando servicio 22:Consejo Nacional de Televisión (CNTV)\n",
      "Procesando servicio 23:Consejo Superior de Educación\n",
      "Procesando servicio 24:Coordinación de Concesiones\n",
      "Procesando servicio 25:Corporación de Asistencia Judicial Región Bío-Bío\n",
      "Procesando servicio 26:Corporación de Asistencia Judicial Región Metropolitana\n",
      "Procesando servicio 27:Corporación de Asistencia Judicial Región Valparaíso\n",
      "Procesando servicio 28:Corporación de Asistencia Judicial Regiones Tarapacá y Antofagasta\n",
      "Procesando servicio 29:Corporación de Fomento para la Producción (CORFO)\n",
      "Procesando servicio 30:Corporación Nacional de Desarrollo Indígena (CONADI)\n",
      "Procesando servicio 31:Defensa Civil de Chile\n",
      "Procesando servicio 32:Defensoría Penal Pública\n",
      "Procesando servicio 33:Dirección de Aeropuertos\n",
      "Procesando servicio 34:Dirección de Arquitectura\n",
      "Procesando servicio 35:Dirección de Bibliotecas, Archivos y Museos (DIBAM)\n",
      "Procesando servicio 36:Dirección de Compras y Contratación Pública (Chilecompra)\n",
      "Procesando servicio 37:Dirección de Contabilidad y Finanzas\n",
      "Procesando servicio 38:Dirección de Obras Hidráulicas (DOH)\n",
      "Procesando servicio 39:Dirección de Obras Portuarias (DOP)\n",
      "Procesando servicio 40:Dirección de Planeamiento (DIRPLAN)\n",
      "Procesando servicio 41:Dirección de Presupuestos (DIPRES)\n",
      "Procesando servicio 42:Dirección de Previsión de Carabineros de Chile (DIPRECA)\n",
      "Procesando servicio 43:Dirección de Vialidad\n",
      "Procesando servicio 44:Dirección del Trabajo (DT)\n",
      "Procesando servicio 45:Dirección General de Aeronáutica Civil (DGAC)\n",
      "Procesando servicio 46:Dirección General de Aguas (DGA)\n",
      "Procesando servicio 47:Dirección General de Crédito Prendario (DICREP)\n",
      "Procesando servicio 48:Dirección General de Movilización Nacional (DGMN)\n",
      "Procesando servicio 49:Dirección General de Obras Públicas\n",
      "Procesando servicio 50:Dirección General de Relaciones Económicas Internacionales (DIRECON)\n",
      "Procesando servicio 51:Dirección General del Territorio Marítimo y Marina Mercante (DIRECTEMAR)\n",
      "Procesando servicio 52:Dirección Nacional de Fronteras y Límites del Estado (DIFROL)\n",
      "Procesando servicio 53:Dirección Nacional del Servicio Civil\n",
      "Procesando servicio 54:Ejército de Chile\n",
      "Procesando servicio 55:Estado Mayor Conjunto\n",
      "Procesando servicio 56:Fiscalía de Obras Públicas\n",
      "Procesando servicio 57:Fiscalía Nacional Económica (FNE)\n",
      "Procesando servicio 58:Fondo de Solidaridad e Inversión Social (FOSIS)\n",
      "Procesando servicio 59:Fondo Nacional de Salud (FONASA)\n",
      "Procesando servicio 60:Fuerza Aérea de Chile (FACH)\n",
      "Procesando servicio 61:Gendarmería de Chile\n",
      "Procesando servicio 62:Gobernación de Antofagasta\n",
      "Procesando servicio 63:Gobernación de Arauco\n",
      "Procesando servicio 64:Gobernación de Arica\n",
      "Procesando servicio 65:Gobernación de Cachapoal\n",
      "Procesando servicio 66:Gobernación de Capitán Prat\n",
      "Procesando servicio 67:Gobernación de Cardenal Caro\n",
      "Procesando servicio 68:Gobernación de Cauquenes\n",
      "Procesando servicio 69:Gobernación de Cautín\n",
      "Procesando servicio 70:Gobernación de Chacabuco\n",
      "Procesando servicio 71:Gobernación de Chañaral\n",
      "Procesando servicio 72:Gobernación de Chiloé\n",
      "Procesando servicio 73:Gobernación de Choapa\n",
      "Procesando servicio 74:Gobernación de Colchagua\n",
      "Procesando servicio 75:Gobernación de Concepción\n",
      "Procesando servicio 76:Gobernación de Copiapó\n",
      "Procesando servicio 77:Gobernación de Cordillera\n",
      "Procesando servicio 78:Gobernación de Coyhaique\n",
      "Procesando servicio 79:Gobernación de Curicó\n",
      "Procesando servicio 80:Gobernación de El Loa\n",
      "Procesando servicio 81:Gobernación de Elqui\n",
      "Procesando servicio 82:Gobernación de General Carrera\n",
      "Procesando servicio 83:Gobernación de Huasco\n",
      "Procesando servicio 84:Gobernación de Iquique\n",
      "Procesando servicio 85:Gobernación de Isla de Pascua\n",
      "Procesando servicio 86:Gobernación de la Antártica Chilena\n",
      "Procesando servicio 87:Gobernación de Limarí\n",
      "Procesando servicio 88:Gobernación de Linares\n",
      "Procesando servicio 89:Gobernación de Llanquihue\n",
      "Procesando servicio 90:Gobernación de Los Andes\n",
      "Procesando servicio 91:Gobernación de Magallanes\n",
      "Procesando servicio 92:Gobernación de Maipo\n",
      "Procesando servicio 93:Gobernación de Malleco\n",
      "Procesando servicio 94:Gobernación de Marga Marga\n",
      "Procesando servicio 95:Gobernación de Melipilla\n",
      "Procesando servicio 96:Gobernación de Ñuble\n",
      "Procesando servicio 97:Gobernación de Osorno\n",
      "Procesando servicio 98:Gobernación de Palena\n",
      "Procesando servicio 99:Gobernación de Parinacota\n",
      "Procesando servicio 100:Gobernación de Petorca\n",
      "Procesando servicio 101:Gobernación de Puerto Aysén\n",
      "Procesando servicio 102:Gobernación de Quillota\n",
      "Procesando servicio 103:Gobernación de Ranco\n",
      "Procesando servicio 104:Gobernación de San Antonio\n",
      "Procesando servicio 105:Gobernación de San Felipe\n",
      "Procesando servicio 106:Gobernación de Talagante\n",
      "Procesando servicio 107:Gobernación de Talca\n",
      "Procesando servicio 108:Gobernación de Tamarugal\n",
      "Procesando servicio 109:Gobernación de Tierra del Fuego\n",
      "Procesando servicio 110:Gobernación de Tocopilla\n",
      "Procesando servicio 111:Gobernación de Última Esperanza\n",
      "Procesando servicio 112:Gobernación de Valdivia\n",
      "Procesando servicio 113:Gobernación de Valparaíso\n",
      "Procesando servicio 114:Gobernación del Bío Bío\n",
      "Procesando servicio 115:Gobierno Regional de Antofagasta\n",
      "Procesando servicio 116:Gobierno Regional de Arica y Parinacota\n",
      "Procesando servicio 117:Gobierno Regional de Atacama\n",
      "Procesando servicio 118:Gobierno Regional de Aysén\n",
      "Procesando servicio 119:Gobierno Regional de Coquimbo\n",
      "Procesando servicio 120:Gobierno Regional de La Araucanía\n",
      "Procesando servicio 121:Gobierno Regional de Los Lagos\n",
      "Procesando servicio 122:Gobierno Regional de Los Ríos\n",
      "Procesando servicio 123:Gobierno Regional de Magallanes y Antártica Chilena\n",
      "Procesando servicio 124:Gobierno Regional de O'Higgins\n",
      "Procesando servicio 125:Gobierno Regional de Tarapacá\n",
      "Procesando servicio 126:Gobierno Regional de Valparaíso\n",
      "Procesando servicio 127:Gobierno Regional del Bío Bío\n",
      "Procesando servicio 128:Gobierno Regional del Maule\n",
      "Procesando servicio 129:Gobierno Regional Metropolitano de Santiago\n",
      "Procesando servicio 130:Hospital Barros Luco \n",
      "Procesando servicio 131:Hospital Base de Valdivia\n",
      "Procesando servicio 132:Hospital Carlos Van Büren\n",
      "Procesando servicio 133:Hospital Claudio Vicuña de San Antonio\n",
      "Procesando servicio 134:Hospital de Curicó\n",
      "Procesando servicio 135:Hospital de Las Higueras\n",
      "Procesando servicio 136:Hospital de Linares\n",
      "Procesando servicio 137:Hospital de Lota\n",
      "Procesando servicio 138:Hospital de Melipilla\n",
      "Procesando servicio 139:Hospital de Osorno\n",
      "Procesando servicio 140:Hospital de Ovalle\n",
      "Procesando servicio 141:Hospital de Puerto Montt\n",
      "Procesando servicio 142:Hospital de Quilpué\n",
      "Procesando servicio 143:Hospital de San Camilo\n",
      "Procesando servicio 144:Hospital de San Carlos\n",
      "Procesando servicio 145:Hospital de Tomé\n",
      "Procesando servicio 146:Hospital de Victoria\n",
      "Procesando servicio 147:Hospital Del Salvador\n",
      "Procesando servicio 148:Hospital Dr. Augusto Riffart de Castro\n",
      "Procesando servicio 149:Hospital Dr. Hernán Henríquez Aravena de Temuco\n",
      "Procesando servicio 150:Hospital Eduardo Pereira de Valparaíso\n",
      "Procesando servicio 151:Hospital El Pino\n",
      "Procesando servicio 152:Hospital Ernesto Torres de Iquique\n",
      "Procesando servicio 153:Hospital Exequiel González\n",
      "Procesando servicio 154:Hospital Félix Bulnes\n",
      "Procesando servicio 155:Hospital Guillermo Grant Benavente de Concepción\n",
      "Procesando servicio 156:Hospital Gustavo Fricke\n",
      "Procesando servicio 157:Hospital Herminda Martin\n",
      "Procesando servicio 158:Hospital Juan Noé de Arica\n",
      "Procesando servicio 159:Hospital La Serena\n",
      "Procesando servicio 160:Hospital Lautaro Navarro de Punta Arenas\n",
      "Procesando servicio 161:Hospital Leonardo Guzmán de Antofagasta\n",
      "Procesando servicio 162:Hospital Luis Calvo Mackenna\n",
      "Procesando servicio 163:Hospital Luis Tisné\n",
      "Procesando servicio 164:Hospital Mauricio Heyermann de Angol\n",
      "Procesando servicio 165:Hospital Padre Hurtado\n",
      "Procesando servicio 166:Hospital Regional de Coyhaique\n",
      "Procesando servicio 167:Hospital Regional de Rancagua\n",
      "Procesando servicio 168:Hospital Regional de Talca\n",
      "Procesando servicio 169:Hospital Roberto del Río\n",
      "Procesando servicio 170:Hospital San Borja Arriarán\n",
      "Procesando servicio 171:Hospital San José\n",
      "Procesando servicio 172:Hospital San Jose de Coronel\n",
      "Procesando servicio 173:Hospital San Juan de Dios\n",
      "Procesando servicio 174:Hospital San Juan de Dios de Los Andes\n",
      "Procesando servicio 175:Hospital San Juan de Dios de San Fernando\n",
      "Procesando servicio 176:Hospital San Martín de Quillota\n",
      "Procesando servicio 177:Hospital San Pablo de Coquimbo\n",
      "Procesando servicio 178:Hospital Sótero del Río\n",
      "Procesando servicio 179:Hospital Víctor Ríos Ruiz de Los Angeles\n",
      "Procesando servicio 180:HUAP Posta central\n",
      "Procesando servicio 181:Instituto Antártico Chileno (INACH)\n",
      "Procesando servicio 182:Instituto de Desarrollo Agropecuario (INDAP)\n",
      "Procesando servicio 183:Instituto de Neurocirugía\n",
      "Procesando servicio 184:Instituto de Previsión Social (IPS)\n",
      "Procesando servicio 185:Instituto de Salud Pública (ISP)\n",
      "Procesando servicio 186:Instituto de Seguridad Laboral (ISL)\n",
      "Procesando servicio 187:Instituto Geográfico Militar (IGM)\n",
      "Procesando servicio 188:Instituto Nacional de Estadísticas (INE)\n",
      "Procesando servicio 189:Instituto Nacional de Geriatría\n",
      "Procesando servicio 190:Instituto Nacional de Hidráulica (INH)\n",
      "Procesando servicio 191:Instituto Nacional de la Juventud (INJUV)\n",
      "Procesando servicio 192:Instituto Nacional de Propiedad Industrial (INAPI)\n",
      "Procesando servicio 193:Instituto Nacional del Cáncer\n",
      "Procesando servicio 194:Instituto Nacional del Deporte (CHILEDEPORTES)\n",
      "Procesando servicio 195:Instituto Nacional del Tórax\n",
      "Procesando servicio 196:Instituto Pedro Aguirre Cerda\n",
      "Procesando servicio 197:Instituto Psiquiátrico\n",
      "Procesando servicio 198:Instituto Traumatológico\n",
      "Procesando servicio 199:Intendencia Arica y Parinacota\n",
      "Procesando servicio 200:Intendencia de Antofagasta\n",
      "Procesando servicio 201:Intendencia de Atacama\n",
      "Procesando servicio 202:Intendencia de Aysén\n",
      "Procesando servicio 203:Intendencia de Coquimbo\n",
      "Procesando servicio 204:Intendencia de La Araucanía\n",
      "Procesando servicio 205:Intendencia de Los Lagos\n",
      "Procesando servicio 206:Intendencia de Los Ríos\n",
      "Procesando servicio 207:Intendencia de Magallanes\n",
      "Procesando servicio 208:Intendencia de O'Higgins\n",
      "Procesando servicio 209:Intendencia de Tarapacá\n",
      "Procesando servicio 210:Intendencia de Valparaíso\n",
      "Procesando servicio 211:Intendencia del Bío Bío\n",
      "Procesando servicio 212:Intendencia del Maule\n",
      "Procesando servicio 213:Intendencia Metropolitana\n",
      "Procesando servicio 214:Junta de Aeronáutica Civil\n",
      "Procesando servicio 215:Junta Nacional de Auxilio Escolar y Becas (JUNAEB)\n",
      "Procesando servicio 216:Junta Nacional de Jardines Infantiles (JUNJI)\n",
      "Procesando servicio 217:Oficina de Estudios y Políticas Agrarias (ODEPA)\n",
      "Procesando servicio 218:Oficina Nacional de Emergencia (ONEMI)\n",
      "Procesando servicio 219:Parque Metropolitano de Santiago\n",
      "Procesando servicio 220:Policía de Investigaciones\n",
      "Procesando servicio 221:Presidencia de la República\n",
      "Procesando servicio 222:Secretaría Regional Ministerial de Antofagasta\n",
      "Procesando servicio 223:Secretaría Regional Ministerial de Arica y Parinacota\n",
      "Procesando servicio 224:Secretaría Regional Ministerial de Atacama\n",
      "Procesando servicio 225:Secretaría Regional Ministerial de Aysén\n",
      "Procesando servicio 226:Secretaría Regional Ministerial de Coquimbo\n",
      "Procesando servicio 227:Secretaría Regional Ministerial de La Araucanía\n",
      "Procesando servicio 228:Secretaría Regional Ministerial de Los Lagos\n",
      "Procesando servicio 229:Secretaría Regional Ministerial de Los Ríos\n",
      "Procesando servicio 230:Secretaría Regional Ministerial de Magallanes y Antártica Chilena\n",
      "Procesando servicio 231:Secretaría Regional Ministerial de Maule\n",
      "Procesando servicio 232:Secretaría Regional Ministerial de O’Higgins\n",
      "Procesando servicio 233:Secretaría Regional Ministerial de Tarapacá\n",
      "Procesando servicio 234:Secretaría Regional Ministerial de Valparaíso\n",
      "Procesando servicio 235:Secretaría Regional Ministerial del Bío-Bío\n",
      "Procesando servicio 236:Secretaría Regional Ministerial Metropolitano de Santiago\n",
      "Procesando servicio 237:Servicio Aerofotogramétrico FACH\n",
      "Procesando servicio 238:Servicio Agrícola Ganadero (SAG)\n",
      "Procesando servicio 239:Servicio de Gobierno Interior\n",
      "Procesando servicio 240:Servicio de Impuestos Internos (SII)\n",
      "Procesando servicio 241:Servicio de Registro Civil e Identificación (SRCEI)\n",
      "Procesando servicio 242:Servicio de Salud Aconcagua\n",
      "Procesando servicio 243:Servicio de Salud Antofagasta\n",
      "Procesando servicio 244:Servicio de Salud Araucanía Norte\n",
      "Procesando servicio 245:Servicio de Salud Araucanía Sur\n",
      "Procesando servicio 246:Servicio de Salud Arauco\n",
      "Procesando servicio 247:Servicio de Salud Arica\n",
      "Procesando servicio 248:Servicio de Salud Atacama\n",
      "Procesando servicio 249:Servicio de Salud Aysén\n",
      "Procesando servicio 250:Servicio de Salud Bío-Bío\n",
      "Procesando servicio 251:Servicio de Salud Concepción\n",
      "Procesando servicio 252:Servicio de Salud Coquimbo\n",
      "Procesando servicio 253:Servicio de Salud de Chiloé\n",
      "Procesando servicio 254:Servicio de Salud del Reloncaví\n",
      "Procesando servicio 255:Servicio de Salud Iquique\n",
      "Procesando servicio 256:Servicio de Salud Magallanes\n",
      "Procesando servicio 257:Servicio de Salud Maule\n",
      "Procesando servicio 258:Servicio de Salud Metropolitano Central\n",
      "Procesando servicio 259:Servicio de Salud Metropolitano Norte\n",
      "Procesando servicio 260:Servicio de Salud Metropolitano Occidente\n",
      "Procesando servicio 261:Servicio de Salud Metropolitano Oriente\n",
      "Procesando servicio 262:Servicio de Salud Metropolitano Sur\n",
      "Procesando servicio 263:Servicio de Salud Metropolitano Sur Oriente\n",
      "Procesando servicio 264:Servicio de Salud Ñuble\n",
      "Procesando servicio 265:Servicio de Salud O'Higgins\n",
      "Procesando servicio 266:Servicio de Salud Osorno\n",
      "Procesando servicio 267:Servicio de Salud Talcahuano\n",
      "Procesando servicio 268:Servicio de Salud Valdivia\n",
      "Procesando servicio 269:Servicio de Salud Valparaíso - San Antonio\n",
      "Procesando servicio 270:Servicio de Salud Viña Del Mar - Quillota\n",
      "Procesando servicio 271:Servicio Electoral (SERVEL)\n",
      "Procesando servicio 272:Servicio Evaluación Ambiental\n",
      "Procesando servicio 273:Servicio Hidrográfico y Oceanográfico de la Armada\n",
      "Procesando servicio 274:Servicio Médico Legal (SML)\n",
      "Procesando servicio 275:Servicio Nacional de Aduanas\n",
      "Procesando servicio 276:Servicio Nacional de Capacitación y Empleo (SENCE)\n",
      "Procesando servicio 277:Servicio Nacional de Geología y Minería (SERNAGEOMIN)\n",
      "Procesando servicio 278:Servicio Nacional de la Discapacidad (SENADIS)\n",
      "Procesando servicio 279:Servicio Nacional de la Mujer (SERNAM)\n",
      "Procesando servicio 280:Servicio Nacional de Menores (SENAME)\n",
      "Procesando servicio 281:Servicio Nacional de Pesca (SERNAPESCA)\n",
      "Procesando servicio 282:Servicio Nacional de Turismo (SERNATUR)\n",
      "Procesando servicio 283:Servicio Nacional del Adulto Mayor (SENAMA)\n",
      "Procesando servicio 284:Servicio Nacional del Consumidor (SERNAC)\n",
      "Procesando servicio 285:Servicio Nacional para la Prevención y Rehabilitación del Consumo de Drogas y Alcohol\n",
      "Procesando servicio 286:SERVIU Arica y Parinacota\n",
      "Procesando servicio 287:SERVIU I Región\n",
      "Procesando servicio 288:SERVIU II Región\n",
      "Procesando servicio 289:SERVIU III Región\n",
      "Procesando servicio 290:SERVIU IV Región\n",
      "Procesando servicio 291:SERVIU IX Región\n",
      "Procesando servicio 292:SERVIU Región de Los Ríos\n",
      "Procesando servicio 293:SERVIU RM\n",
      "Procesando servicio 294:SERVIU V Región\n",
      "Procesando servicio 295:SERVIU VI Región\n",
      "Procesando servicio 296:SERVIU VII Región\n",
      "Procesando servicio 297:SERVIU VIII Región\n",
      "Procesando servicio 298:SERVIU X Región\n",
      "Procesando servicio 299:SERVIU XI Región\n",
      "Procesando servicio 300:SERVIU XII Región\n",
      "Procesando servicio 301:Subsecretaría de Agricultura\n",
      "Procesando servicio 302:Subsecretaría de Bienes Nacionales\n",
      "Procesando servicio 303:Subsecretaría de Carabineros\n",
      "Procesando servicio 304:Subsecretaría de Defensa\n",
      "Procesando servicio 305:Subsecretaría de Desarrollo Regional (SUBDERE)\n",
      "Procesando servicio 306:Subsecretaría de Economía\n",
      "Procesando servicio 307:Subsecretaría de Educación\n",
      "Procesando servicio 308:Subsecretaría de Educación Parvularia\n",
      "Procesando servicio 309:Subsecretaría de Energía\n",
      "Procesando servicio 310:Subsecretaría de Evaluación Social\n",
      "Procesando servicio 311:Subsecretaría de Hacienda\n",
      "Procesando servicio 312:Subsecretaría de Investigaciones\n",
      "Procesando servicio 313:Subsecretaría de Justicia\n",
      "Procesando servicio 314:Subsecretaría de Minería\n",
      "Procesando servicio 315:Subsecretaría de Obras Públicas\n",
      "Procesando servicio 316:Subsecretaría de Pesca\n",
      "Procesando servicio 317:Subsecretaría de Planificación\n",
      "Procesando servicio 318:Subsecretaría de Prevención del Delito\n",
      "Procesando servicio 319:Subsecretaría de Previsión Social\n",
      "Procesando servicio 320:Subsecretaría de Redes Asistenciales\n",
      "Procesando servicio 321:Subsecretaría de Relaciones Exteriores\n",
      "Procesando servicio 322:Subsecretaría de Salud Pública\n",
      "Procesando servicio 323:Subsecretaría de Servicios Sociales\n",
      "Procesando servicio 324:Subsecretaría de Telecomunicaciones\n",
      "Procesando servicio 325:Subsecretaría de Transporte\n",
      "Procesando servicio 326:Subsecretaría de Turismo\n",
      "Procesando servicio 327:Subsecretaría de Vivienda y Urbanismo\n",
      "Procesando servicio 328:Subsecretaría del deporte\n",
      "Procesando servicio 329:Subsecretaría del Interior\n",
      "Procesando servicio 330:Subsecretaría del Medio Ambiente\n",
      "Procesando servicio 331:Subsecretaría del Trabajo\n",
      "Procesando servicio 332:Subsecretaría General de Gobierno\n",
      "Procesando servicio 333:Subsecretaría General de la Presidencia\n",
      "Procesando servicio 334:Subsecretaría para las Fuerzas Armadas\n",
      "Procesando servicio 335:Superindencia del Medio Ambiente\n",
      "Procesando servicio 336:Superintendencia de Bancos e Instituciones Financieras (SBIF)\n",
      "Procesando servicio 337:Superintendencia de Casinos de Juego (SCJ)\n",
      "Procesando servicio 338:Superintendencia de Educación\n",
      "Procesando servicio 339:Superintendencia de Electricidad y Combustibles (SEC)\n",
      "Procesando servicio 340:Superintendencia de Insolvencia y Reemprendimiento (SIR)\n",
      "Procesando servicio 341:Superintendencia de Pensiones (SP)\n",
      "Procesando servicio 342:Superintendencia de Salud\n",
      "Procesando servicio 343:Superintendencia de Seguridad Social (SUSESO)\n",
      "Procesando servicio 344:Superintendencia de Servicios Sanitarios (SISS)\n",
      "Procesando servicio 345:Superintendencia de Valores y Seguros (SVS)\n",
      "Procesando servicio 346:Tesorería General de la República\n",
      "Procesando servicio 347:Unidad de Análisis Financiero (UAF)\n"
     ]
    }
   ],
   "source": [
    "%time\n",
    "df = pd.DataFrame()\n",
    "\n",
    "for i in [s for s in list(range(0,len(links)))]:\n",
    "    n_page = 1\n",
    "    link = links[i]\n",
    "    servicio = servicios[i]\n",
    "    print('Procesando servicio ' + str(i+1) + ':' + servicio)\n",
    "    main_html = get_html(link + str(n_page))\n",
    "\n",
    "    if main_html:    \n",
    "        main_table = extract_table(main_html)\n",
    "        if main_table:\n",
    "            try:\n",
    "                df_1 = create_df(main_table,servicio)\n",
    "                df = pd.concat([df,df_1])\n",
    "            except:\n",
    "                continue\n",
    "            while True:\n",
    "                n_page = n_page + 1  \n",
    "                sub_html = get_html(link + str(n_page))\n",
    "                sub_table = extract_table(sub_html)\n",
    "                # Se pone un factor de seguridad de un máximo de 10 páginas...\n",
    "                if sub_table and n_page<50:\n",
    "                    df_extra = create_df(sub_table,servicio)\n",
    "                    df = pd.concat([df,df_extra])\n",
    "                else:\n",
    "                    break"
   ]
  },
  {
   "cell_type": "code",
   "execution_count": 62,
   "metadata": {
    "collapsed": false,
    "scrolled": false
   },
   "outputs": [
    {
     "data": {
      "text/plain": [
       "(16241, 7)"
      ]
     },
     "execution_count": 62,
     "metadata": {},
     "output_type": "execute_result"
    }
   ],
   "source": [
    "df.shape"
   ]
  },
  {
   "cell_type": "code",
   "execution_count": 63,
   "metadata": {
    "collapsed": false,
    "scrolled": true
   },
   "outputs": [
    {
     "data": {
      "text/html": [
       "<div>\n",
       "<table border=\"1\" class=\"dataframe\">\n",
       "  <thead>\n",
       "    <tr style=\"text-align: right;\">\n",
       "      <th></th>\n",
       "      <th>Estamento</th>\n",
       "      <th>Cargo</th>\n",
       "      <th>Grado EUS</th>\n",
       "      <th>Remuneración Bruta Mensualizada</th>\n",
       "      <th>Fecha de inicio</th>\n",
       "      <th>Fecha de término</th>\n",
       "      <th>servicio</th>\n",
       "    </tr>\n",
       "  </thead>\n",
       "  <tbody>\n",
       "    <tr>\n",
       "      <th>0</th>\n",
       "      <td>PROFESIONAL</td>\n",
       "      <td>JEFA UNIDAD COMUNICACIONES</td>\n",
       "      <td>4°</td>\n",
       "      <td>3639594.0</td>\n",
       "      <td>01/08/2014</td>\n",
       "      <td>31/12/2016</td>\n",
       "      <td>Caja de Previsión de la Defensa Nacional (CAPR...</td>\n",
       "    </tr>\n",
       "    <tr>\n",
       "      <th>1</th>\n",
       "      <td>PROFESIONAL</td>\n",
       "      <td>ASESOR DE VICEPRESIDENCIA</td>\n",
       "      <td>4°</td>\n",
       "      <td>3900396.0</td>\n",
       "      <td>01/03/2015</td>\n",
       "      <td>05/06/2016</td>\n",
       "      <td>Caja de Previsión de la Defensa Nacional (CAPR...</td>\n",
       "    </tr>\n",
       "    <tr>\n",
       "      <th>2</th>\n",
       "      <td>PROFESIONAL</td>\n",
       "      <td>JEFA AUDITORIA INTERNA</td>\n",
       "      <td>4°</td>\n",
       "      <td>2911675.0</td>\n",
       "      <td>22/12/2011</td>\n",
       "      <td>31/12/2016</td>\n",
       "      <td>Caja de Previsión de la Defensa Nacional (CAPR...</td>\n",
       "    </tr>\n",
       "    <tr>\n",
       "      <th>3</th>\n",
       "      <td>PROFESIONAL</td>\n",
       "      <td>JEFE DEPTO. CONTABILIDAD</td>\n",
       "      <td>6°</td>\n",
       "      <td>2379684.0</td>\n",
       "      <td>26/05/2014</td>\n",
       "      <td>31/12/2016</td>\n",
       "      <td>Caja de Previsión de la Defensa Nacional (CAPR...</td>\n",
       "    </tr>\n",
       "    <tr>\n",
       "      <th>4</th>\n",
       "      <td>PROFESIONAL</td>\n",
       "      <td>ASESOR LEGAL DE LOS CDS y R</td>\n",
       "      <td>7°</td>\n",
       "      <td>2393036.0</td>\n",
       "      <td>02/01/1996</td>\n",
       "      <td>31/12/2016</td>\n",
       "      <td>Caja de Previsión de la Defensa Nacional (CAPR...</td>\n",
       "    </tr>\n",
       "  </tbody>\n",
       "</table>\n",
       "</div>"
      ],
      "text/plain": [
       "     Estamento                        Cargo Grado EUS  \\\n",
       "0  PROFESIONAL   JEFA UNIDAD COMUNICACIONES        4°   \n",
       "1  PROFESIONAL    ASESOR DE VICEPRESIDENCIA        4°   \n",
       "2  PROFESIONAL       JEFA AUDITORIA INTERNA        4°   \n",
       "3  PROFESIONAL     JEFE DEPTO. CONTABILIDAD        6°   \n",
       "4  PROFESIONAL  ASESOR LEGAL DE LOS CDS y R        7°   \n",
       "\n",
       "   Remuneración Bruta Mensualizada Fecha de inicio Fecha de término  \\\n",
       "0                        3639594.0      01/08/2014       31/12/2016   \n",
       "1                        3900396.0      01/03/2015       05/06/2016   \n",
       "2                        2911675.0      22/12/2011       31/12/2016   \n",
       "3                        2379684.0      26/05/2014       31/12/2016   \n",
       "4                        2393036.0      02/01/1996       31/12/2016   \n",
       "\n",
       "                                            servicio  \n",
       "0  Caja de Previsión de la Defensa Nacional (CAPR...  \n",
       "1  Caja de Previsión de la Defensa Nacional (CAPR...  \n",
       "2  Caja de Previsión de la Defensa Nacional (CAPR...  \n",
       "3  Caja de Previsión de la Defensa Nacional (CAPR...  \n",
       "4  Caja de Previsión de la Defensa Nacional (CAPR...  "
      ]
     },
     "execution_count": 63,
     "metadata": {},
     "output_type": "execute_result"
    }
   ],
   "source": [
    "df.head()"
   ]
  },
  {
   "cell_type": "code",
   "execution_count": 45,
   "metadata": {
    "collapsed": false
   },
   "outputs": [
    {
     "data": {
      "text/plain": [
       "array(['Caja de Previsión de la Defensa Nacional (CAPREDENA)',\n",
       "       'Comité de Inversiones Extranjeras',\n",
       "       'Consejo de Rectores de las Universidades Chilenas',\n",
       "       'Corporación Nacional de Desarrollo Indígena (CONADI)',\n",
       "       'Dirección de Compras y Contratación Pública (Chilecompra)',\n",
       "       'Dirección de Presupuestos (DIPRES)',\n",
       "       'Dirección General de Relaciones Económicas Internacionales (DIRECON)',\n",
       "       'Dirección Nacional de Fronteras y Límites del Estado (DIFROL)',\n",
       "       'Dirección Nacional del Servicio Civil',\n",
       "       'Fiscalía Nacional Económica (FNE)', 'Gobierno Regional de Aysén',\n",
       "       'Gobierno Regional de Los Lagos', \"Gobierno Regional de O'Higgins\",\n",
       "       'Gobierno Regional Metropolitano de Santiago',\n",
       "       'Instituto de Desarrollo Agropecuario (INDAP)',\n",
       "       'Instituto de Seguridad Laboral (ISL)',\n",
       "       'Instituto Nacional de Estadísticas (INE)',\n",
       "       'Instituto Nacional de Propiedad Industrial (INAPI)',\n",
       "       'Junta de Aeronáutica Civil',\n",
       "       'Oficina de Estudios y Políticas Agrarias (ODEPA)',\n",
       "       'Presidencia de la República', 'Servicio Agrícola Ganadero (SAG)',\n",
       "       'Servicio Evaluación Ambiental',\n",
       "       'Servicio Nacional de la Mujer (SERNAM)',\n",
       "       'SERVIU Arica y Parinacota', 'SERVIU I Región', 'SERVIU IX Región',\n",
       "       'SERVIU X Región', 'Subsecretaría de Agricultura',\n",
       "       'Subsecretaría de Bienes Nacionales', 'Subsecretaría de Economía',\n",
       "       'Subsecretaría de Energía', 'Subsecretaría de Hacienda',\n",
       "       'Subsecretaría de Justicia', 'Subsecretaría de Pesca',\n",
       "       'Subsecretaría de Relaciones Exteriores',\n",
       "       'Subsecretaría de Telecomunicaciones', 'Subsecretaría de Turismo',\n",
       "       'Subsecretaría del Medio Ambiente',\n",
       "       'Subsecretaría General de Gobierno',\n",
       "       'Superindencia del Medio Ambiente',\n",
       "       'Superintendencia de Casinos de Juego (SCJ)',\n",
       "       'Superintendencia de Electricidad y Combustibles (SEC)',\n",
       "       'Superintendencia de Pensiones (SP)', 'Superintendencia de Salud',\n",
       "       'Superintendencia de Seguridad Social (SUSESO)',\n",
       "       'Superintendencia de Valores y Seguros (SVS)',\n",
       "       'Unidad de Análisis Financiero (UAF)'], dtype=object)"
      ]
     },
     "execution_count": 45,
     "metadata": {},
     "output_type": "execute_result"
    }
   ],
   "source": [
    "df['servicio'].unique()"
   ]
  },
  {
   "cell_type": "code",
   "execution_count": 46,
   "metadata": {
    "collapsed": false
   },
   "outputs": [
    {
     "data": {
      "image/png": "[encoded data removed]",
      "text/plain": [
       "<matplotlib.figure.Figure at 0x118fc77b8>"
      ]
     },
     "metadata": {},
     "output_type": "display_data"
    },
    {
     "data": {
      "text/plain": [
       "<ggplot: (-9223372036560767144)>"
      ]
     },
     "execution_count": 46,
     "metadata": {},
     "output_type": "execute_result"
    }
   ],
   "source": [
    "labels = ['$ {0:,}'.format(n*1000000).replace(',','.') for n in list(range(10))]\n",
    "ggplot(df,aes(x='Remuneración Bruta Mensualizada'))+geom_histogram(aes(fill='steelblue')) + \\\n",
    "scale_x_continuous(labels=labels)\n"
   ]
  },
  {
   "cell_type": "code",
   "execution_count": 65,
   "metadata": {
    "collapsed": true
   },
   "outputs": [],
   "source": [
    "#pd.set_option(\"display.float_format\",lambda x: \"$ {:,.0f}\".format(x).replace(\",\",\".\"))"
   ]
  },
  {
   "cell_type": "code",
   "execution_count": 66,
   "metadata": {
    "collapsed": false
   },
   "outputs": [
    {
     "data": {
      "text/html": [
       "<div>\n",
       "<table border=\"1\" class=\"dataframe\">\n",
       "  <thead>\n",
       "    <tr style=\"text-align: right;\">\n",
       "      <th></th>\n",
       "      <th>Remuneración Bruta Mensualizada</th>\n",
       "    </tr>\n",
       "  </thead>\n",
       "  <tbody>\n",
       "    <tr>\n",
       "      <th>mean</th>\n",
       "      <td>2.513467e+06</td>\n",
       "    </tr>\n",
       "    <tr>\n",
       "      <th>std</th>\n",
       "      <td>1.137825e+06</td>\n",
       "    </tr>\n",
       "    <tr>\n",
       "      <th>min</th>\n",
       "      <td>0.000000e+00</td>\n",
       "    </tr>\n",
       "    <tr>\n",
       "      <th>25%</th>\n",
       "      <td>1.829904e+06</td>\n",
       "    </tr>\n",
       "    <tr>\n",
       "      <th>50%</th>\n",
       "      <td>2.557620e+06</td>\n",
       "    </tr>\n",
       "    <tr>\n",
       "      <th>75%</th>\n",
       "      <td>3.133074e+06</td>\n",
       "    </tr>\n",
       "    <tr>\n",
       "      <th>max</th>\n",
       "      <td>8.168166e+06</td>\n",
       "    </tr>\n",
       "  </tbody>\n",
       "</table>\n",
       "</div>"
      ],
      "text/plain": [
       "      Remuneración Bruta Mensualizada\n",
       "mean                     2.513467e+06\n",
       "std                      1.137825e+06\n",
       "min                      0.000000e+00\n",
       "25%                      1.829904e+06\n",
       "50%                      2.557620e+06\n",
       "75%                      3.133074e+06\n",
       "max                      8.168166e+06"
      ]
     },
     "execution_count": 66,
     "metadata": {},
     "output_type": "execute_result"
    }
   ],
   "source": [
    "df.describe()[1:]"
   ]
  },
  {
   "cell_type": "code",
   "execution_count": 64,
   "metadata": {
    "collapsed": true
   },
   "outputs": [],
   "source": [
    "pd.reset_option(\"display.float_format\")"
   ]
  },
  {
   "cell_type": "code",
   "execution_count": 58,
   "metadata": {
    "collapsed": true
   },
   "outputs": [],
   "source": [
    "df.to_pickle('sueldos_contrata.pkl')"
   ]
  }
 ],
 "metadata": {
  "kernelspec": {
   "display_name": "Python 3",
   "language": "python",
   "name": "python3"
  },
  "language_info": {
   "codemirror_mode": {
    "name": "ipython",
    "version": 3
   },
   "file_extension": ".py",
   "mimetype": "text/x-python",
   "name": "python",
   "nbconvert_exporter": "python",
   "pygments_lexer": "ipython3",
   "version": "3.5.2"
  }
 },
 "nbformat": 4,
 "nbformat_minor": 1
}
